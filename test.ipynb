{
 "cells": [
  {
   "cell_type": "code",
   "execution_count": 1,
   "metadata": {},
   "outputs": [],
   "source": [
    "%matplotlib widget"
   ]
  },
  {
   "cell_type": "code",
   "execution_count": 8,
   "metadata": {},
   "outputs": [],
   "source": [
    "import numpy as np\n",
    "import matplotlib.pyplot as plt"
   ]
  },
  {
   "cell_type": "code",
   "execution_count": 3,
   "metadata": {},
   "outputs": [],
   "source": [
    "import crixs.models.stepfunctions as myfunc"
   ]
  },
  {
   "cell_type": "code",
   "execution_count": 1,
   "metadata": {},
   "outputs": [],
   "source": [
    "from crixs.Spectrum import Spectrum as spc"
   ]
  },
  {
   "cell_type": "code",
   "execution_count": 5,
   "metadata": {},
   "outputs": [],
   "source": [
    "a = spc(x=[0,0.5,1],y=[0,0.5,1])\n",
    "b = spc(x=[0,0.5,1],y=[0,0.5,1])"
   ]
  },
  {
   "cell_type": "code",
   "execution_count": 6,
   "metadata": {},
   "outputs": [
    {
     "data": {
      "text/plain": [
       "False"
      ]
     },
     "execution_count": 6,
     "metadata": {},
     "output_type": "execute_result"
    }
   ],
   "source": [
    "b.x is a.x"
   ]
  },
  {
   "cell_type": "code",
   "execution_count": 7,
   "metadata": {},
   "outputs": [
    {
     "data": {
      "text/plain": [
       "False"
      ]
     },
     "execution_count": 7,
     "metadata": {},
     "output_type": "execute_result"
    }
   ],
   "source": [
    "b.x = a.x\n",
    "b.x is a.x"
   ]
  },
  {
   "cell_type": "code",
   "execution_count": 21,
   "metadata": {},
   "outputs": [],
   "source": [
    "a = np.array(1)"
   ]
  },
  {
   "cell_type": "code",
   "execution_count": 2,
   "metadata": {},
   "outputs": [],
   "source": [
    "from crixs.Fitting import *"
   ]
  },
  {
   "cell_type": "code",
   "execution_count": 3,
   "metadata": {},
   "outputs": [
    {
     "name": "stderr",
     "output_type": "stream",
     "text": [
      "c:\\Researches\\Scripts\\CRIXS\\crixs\\Spectrum.py:82: RuntimeWarning: invalid value encountered in sqrt\n",
      "  self._err = np.sqrt(self._y)\n"
     ]
    }
   ],
   "source": [
    "import numpy as np\n",
    "\n",
    "def func1(x, a):\n",
    "    return a * x\n",
    "def func2(x, b):\n",
    "    return b* np.cos(x)\n",
    "\n",
    "ft = Fitting()\n",
    "\n",
    "ft.modeling(func2, prefix=\"i_\")\n",
    "# ft.modeling(func1, prefix=\"s_\")\n",
    "\n",
    "# Params_init = {\n",
    "#     \"gb\": {\"value\": 0},\n",
    "# }\n",
    "\n",
    "# ft.init(Params_init)\n",
    "\n",
    "x = np.linspace(-1, 1, 100)\n",
    "y = np.sin(x)\n",
    "ss = Spectrum(x, y)\n",
    "\n",
    "ft.fit(ss)\n",
    "\n",
    "result = ft.result\n"
   ]
  },
  {
   "cell_type": "code",
   "execution_count": 5,
   "metadata": {},
   "outputs": [
    {
     "data": {
      "text/plain": [
       "[<matplotlib.lines.Line2D at 0x163e685d6a0>]"
      ]
     },
     "execution_count": 5,
     "metadata": {},
     "output_type": "execute_result"
    },
    {
     "data": {
      "image/png": "[encoded data removed]",
      "text/plain": [
       "<Figure size 640x480 with 1 Axes>"
      ]
     },
     "metadata": {},
     "output_type": "display_data"
    }
   ],
   "source": [
    "import matplotlib.pyplot as plt\n",
    "\n",
    "plt.figure()\n",
    "plt.plot(ss.x,ss.y)\n",
    "line = ft.out()\n",
    "plt.plot(line.x,line.y)\n",
    "plt.plot(line.x,line.y-line.err,'--')\n",
    "plt.plot(line.x,line.y+line.err,'--')\n",
    "\n",
    "\n",
    "# line=ft.out('s_')\n",
    "# plt.plot(line.x,line.y)\n",
    "line = ft.out('i_')\n",
    "plt.plot(line.x,line.y)"
   ]
  },
  {
   "cell_type": "code",
   "execution_count": 22,
   "metadata": {},
   "outputs": [
    {
     "name": "stdout",
     "output_type": "stream",
     "text": [
      "{'i_b': {'value': 1.8385058627204308e-12, 'stderr': 0.025678134619610465}}\n"
     ]
    }
   ],
   "source": [
    "print(result)"
   ]
  },
  {
   "cell_type": "code",
   "execution_count": 23,
   "metadata": {},
   "outputs": [
    {
     "data": {
      "text/plain": [
       "<lmfit.Model: Model(func2, prefix='i_')>"
      ]
     },
     "execution_count": 23,
     "metadata": {},
     "output_type": "execute_result"
    }
   ],
   "source": [
    "ft.model"
   ]
  },
  {
   "cell_type": "code",
   "execution_count": 24,
   "metadata": {},
   "outputs": [
    {
     "data": {
      "text/plain": [
       "True"
      ]
     },
     "execution_count": 24,
     "metadata": {},
     "output_type": "execute_result"
    }
   ],
   "source": [
    "hasattr(ft._out, \"dely_comps\")"
   ]
  },
  {
   "cell_type": "code",
   "execution_count": 25,
   "metadata": {},
   "outputs": [
    {
     "data": {
      "text/plain": [
       "{'i_': array([0.01394438, 0.01438023, 0.01481022, 0.01523416, 0.01565188,\n",
       "        0.01606322, 0.016468  , 0.01686606, 0.01725724, 0.01764137,\n",
       "        0.01801831, 0.01838789, 0.01874996, 0.01910439, 0.01945102,\n",
       "        0.01978971, 0.02012032, 0.02044272, 0.02075678, 0.02106237,\n",
       "        0.02135936, 0.02164764, 0.02192708, 0.02219757, 0.02245901,\n",
       "        0.02271127, 0.02295427, 0.0231879 , 0.02341207, 0.02362669,\n",
       "        0.02383166, 0.0240269 , 0.02421234, 0.0243879 , 0.02455351,\n",
       "        0.02470909, 0.02485459, 0.02498995, 0.02511511, 0.02523002,\n",
       "        0.02533463, 0.02542891, 0.0255128 , 0.02558629, 0.02564933,\n",
       "        0.02570191, 0.02574399, 0.02577557, 0.02579663, 0.02580716,\n",
       "        0.02580716, 0.02579663, 0.02577557, 0.02574399, 0.02570191,\n",
       "        0.02564933, 0.02558629, 0.0255128 , 0.02542891, 0.02533463,\n",
       "        0.02523002, 0.02511511, 0.02498995, 0.02485459, 0.02470909,\n",
       "        0.02455351, 0.0243879 , 0.02421234, 0.0240269 , 0.02383166,\n",
       "        0.02362669, 0.02341207, 0.0231879 , 0.02295427, 0.02271127,\n",
       "        0.02245901, 0.02219757, 0.02192708, 0.02164764, 0.02135936,\n",
       "        0.02106237, 0.02075678, 0.02044272, 0.02012032, 0.01978971,\n",
       "        0.01945102, 0.01910439, 0.01874996, 0.01838789, 0.01801831,\n",
       "        0.01764137, 0.01725724, 0.01686606, 0.016468  , 0.01606322,\n",
       "        0.01565188, 0.01523416, 0.01481022, 0.01438023, 0.01394438])}"
      ]
     },
     "execution_count": 25,
     "metadata": {},
     "output_type": "execute_result"
    }
   ],
   "source": [
    "ft._out.dely_comps"
   ]
  },
  {
   "cell_type": "code",
   "execution_count": null,
   "metadata": {},
   "outputs": [],
   "source": []
  }
 ],
 "metadata": {
  "kernelspec": {
   "display_name": "Python 3 (ipykernel)",
   "language": "python",
   "name": "python3"
  },
  "language_info": {
   "codemirror_mode": {
    "name": "ipython",
    "version": 3
   },
   "file_extension": ".py",
   "mimetype": "text/x-python",
   "name": "python",
   "nbconvert_exporter": "python",
   "pygments_lexer": "ipython3",
   "version": "3.9.5"
  }
 },
 "nbformat": 4,
 "nbformat_minor": 4
}
